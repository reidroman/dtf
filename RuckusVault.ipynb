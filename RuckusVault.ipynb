{
 "cells": [
  {
   "cell_type": "markdown",
   "id": "5b61034f",
   "metadata": {},
   "source": [
    "# EVM token creation interface in Vyper\n",
    "token params (from [whitepaper](https://www.notion.so/ruckus-fi/DTF-Whitepaper-0c35ba84d14b44f3960197236704f23e):\n",
    "- Fee structure (management, performance, investment, redemption, others?)\n",
    "- Epoch length (warm-up/cool-down periods for both investors and managers)\n",
    "- Active vs passive management\n",
    "- User vs program management (DAOs or algos, on-chain or off-chain?)\n",
    "\n",
    "\n",
    "all fees annualized regardless of epoch length\n",
    "authorities:\n",
    "- admin\n",
    "- manager\n",
    "\n",
    "powers:\n",
    "- rebalance portfolio\n",
    "- change fund attributes (fees, authorities)\n",
    "- gate investment actions"
   ]
  },
  {
   "cell_type": "markdown",
   "id": "5c30bc54",
   "metadata": {},
   "source": [
    "## Todos:\n",
    "https://consensys.github.io/smart-contract-best-practices/\n",
    "- [] circuit breakers\n",
    "- [] bug bounties\n",
    "- [] modularity, composition, https://www.openzeppelin.com/contracts\n",
    "- [] speed bumps"
   ]
  },
  {
   "cell_type": "markdown",
   "id": "3de5e857",
   "metadata": {},
   "source": [
    "Design notes:\n",
    "- one set of contracts for the whole protocol - contracts shouldn't be extensible, nor should a new one be required for each [vault/user/analysis/etc]\n",
    "- how do I lookup fund, then check in-contract whether signer has auth to perform action? there's precedent, but this dynamic bit is concerning\n",
    "- underscore prefix for external functions intended to be called by contracts, oracles, or other machines\n",
    "- cocreation of oracle cron for fees and ramping (portfolio rebalancing, investment, redemption)\n",
    "- time scales are relative to deployment? like for quarterly fee assessment, first fee date would be deploy_date + 3 months – this is to avoid network volume?"
   ]
  },
  {
   "cell_type": "code",
   "execution_count": 1,
   "id": "f8285529",
   "metadata": {},
   "outputs": [],
   "source": [
    "%load_ext boa.ipython\n",
    "import boa\n",
    "boa.interpret.set_cache_dir()"
   ]
  },
  {
   "cell_type": "code",
   "execution_count": null,
   "id": "712fd2c4",
   "metadata": {},
   "outputs": [],
   "source": [
    "%%vyper\n",
    "\n",
    "struct Vault:\n",
    "    # can be a program (automation proxy, DAO, multisig) or an individual\n",
    "    manager_authority: int128\n",
    "    admin_authority: \n",
    "    performance_fee: decimal\n",
    "    management_fee: \n",
    "    investment_fee: \n",
    "    redemption_fee: \n",
    "    divestment_fee: \n",
    "    fee_period: \n",
    "    ramp_period: \n",
    "\n",
    "vault_map: public()\n",
    "        \n",
    "\n",
    "@external\n",
    "def __init__(\n",
    "    _owner: address,\n",
    "    _coins: address[N_COINS],\n",
    "    _pool_token: address,\n",
    "    _A: uint256,\n",
    "    _fee: uint256,\n",
    "    _admin_fee: uint256\n",
    "):\n",
    "    \"\"\"\n",
    "    @notice Contract constructor\n",
    "    @param _owner Contract owner address\n",
    "    @param _coins Addresses of ERC20 conracts of coins\n",
    "    @param _pool_token Address of the token representing LP share\n",
    "    @param _A Amplification coefficient multiplied by n * (n - 1)\n",
    "    @param _fee Fee to charge for exchanges\n",
    "    @param _admin_fee Admin fee\n",
    "    \"\"\"\n",
    "    for i in range(N_COINS):\n",
    "        assert _coins[i] != ZERO_ADDRESS\n",
    "    self.coins = _coins\n",
    "    self.initial_A = _A\n",
    "    self.future_A = _A\n",
    "    self.fee = _fee\n",
    "    self.admin_fee = _admin_fee\n",
    "    self.owner = _owner\n",
    "    self.kill_deadline = block.timestamp + KILL_DEADLINE_DT\n",
    "    self.token = CurveToken(_pool_token)\n",
    "\n",
    "# create, update, delete\n",
    "# TODO: assert that cron is created\n",
    "@external\n",
    "def mutate_vault(\n",
    "    vault: address,\n",
    "    manager_authority: int128\n",
    "    admin_authority: \n",
    "    performance_fee: decimal\n",
    "    management_fee: \n",
    "    investment_fee: \n",
    "    redemption_fee: \n",
    "    divestment_fee: \n",
    "    fee_period: \n",
    "    ramp_period: \n",
    "):\n",
    "    pass\n",
    "\n",
    "\n",
    "\n",
    "# run once per epoch to ramp\n",
    "# NB: curve just interpolates, but we need to action on schedule, so we need a cron\n",
    "@external\n",
    "def _ramp_tick():\n",
    "    pass\n",
    "\n",
    "# setup on cron schedule\n",
    "def _assess_fees():\n",
    "    pass\n"
   ]
  },
  {
   "cell_type": "code",
   "execution_count": null,
   "id": "8270fbf8",
   "metadata": {},
   "outputs": [],
   "source": [
    "contract = _.deploy()\n",
    "print(contract.array_contains_element(9), contract._computation.get_gas_used())\n",
    "print(contract.array_contains_element(0), contract._computation.get_gas_used())\n",
    "print(contract.array_contains_element(5), contract._computation.get_gas_used())"
   ]
  }
 ],
 "metadata": {
  "kernelspec": {
   "display_name": "Python 3 (ipykernel)",
   "language": "python",
   "name": "python3"
  },
  "language_info": {
   "codemirror_mode": {
    "name": "ipython",
    "version": 3
   },
   "file_extension": ".py",
   "mimetype": "text/x-python",
   "name": "python",
   "nbconvert_exporter": "python",
   "pygments_lexer": "ipython3",
   "version": "3.10.0"
  }
 },
 "nbformat": 4,
 "nbformat_minor": 5
}
