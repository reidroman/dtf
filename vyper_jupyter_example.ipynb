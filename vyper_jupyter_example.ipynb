{
 "cells": [
  {
   "cell_type": "code",
   "execution_count": 2,
   "id": "eb80b363",
   "metadata": {},
   "outputs": [],
   "source": [
    "%load_ext boa.ipython\n",
    "import boa\n",
    "boa.interpret.set_cache_dir()"
   ]
  },
  {
   "cell_type": "code",
   "execution_count": 3,
   "id": "af5d09e7",
   "metadata": {},
   "outputs": [
    {
     "data": {
      "text/plain": [
       "<boa.contract.VyperDeployer at 0x1110a1a50>"
      ]
     },
     "execution_count": 3,
     "metadata": {},
     "output_type": "execute_result"
    }
   ],
   "source": [
    "%%vyper\n",
    "\n",
    "array: constant(uint256[10]) = [0, 1, 2, 3, 4, 5, 6, 7, 8, 9]\n",
    "\n",
    "@external\n",
    "def array_contains_element(a: uint256) -> bool:\n",
    "    for i in range(10):\n",
    "        if array[i] == a:\n",
    "            return True\n",
    "    return False"
   ]
  },
  {
   "cell_type": "code",
   "execution_count": 4,
   "id": "f3138b1a",
   "metadata": {},
   "outputs": [
    {
     "name": "stdout",
     "output_type": "stream",
     "text": [
      "True 2165\n",
      "True 347\n",
      "True 1357\n"
     ]
    }
   ],
   "source": [
    "contract = _.deploy()\n",
    "print(contract.array_contains_element(9), contract._computation.get_gas_used())\n",
    "print(contract.array_contains_element(0), contract._computation.get_gas_used())\n",
    "print(contract.array_contains_element(5), contract._computation.get_gas_used())\n"
   ]
  }
 ],
 "metadata": {
  "kernelspec": {
   "display_name": "Python 3 (ipykernel)",
   "language": "python",
   "name": "python3"
  },
  "language_info": {
   "codemirror_mode": {
    "name": "ipython",
    "version": 3
   },
   "file_extension": ".py",
   "mimetype": "text/x-python",
   "name": "python",
   "nbconvert_exporter": "python",
   "pygments_lexer": "ipython3",
   "version": "3.10.0"
  },
  "widgets": {
   "application/vnd.jupyter.widget-state+json": {
    "state": {},
    "version_major": 2,
    "version_minor": 0
   }
  }
 },
 "nbformat": 4,
 "nbformat_minor": 5
}
